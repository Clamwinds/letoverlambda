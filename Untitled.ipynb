{
 "cells": [
  {
   "cell_type": "markdown",
   "metadata": {},
   "source": [
    "A $ \\setminus $ B , so this is a complement is just if nothing else from the power set of that subset or sets, uh borel sets are perhaps the same thing as sigma algebra's\n",
    "\n",
    "The definition given in Fremlin's two volumes out of five are the following\n",
    "\n",
    "111A Defiition Let X be a set. A sigma-algebra of subsets of X (sometimes called a sigma-field  "
   ]
  },
  {
   "cell_type": "code",
   "execution_count": null,
   "metadata": {
    "collapsed": true
   },
   "outputs": [],
   "source": []
  }
 ],
 "metadata": {
  "kernelspec": {
   "display_name": "R",
   "language": "R",
   "name": "ir"
  },
  "language_info": {
   "codemirror_mode": "r",
   "file_extension": ".r",
   "mimetype": "text/x-r-source",
   "name": "R",
   "pygments_lexer": "r",
   "version": "3.1.2"
  }
 },
 "nbformat": 4,
 "nbformat_minor": 0
}
