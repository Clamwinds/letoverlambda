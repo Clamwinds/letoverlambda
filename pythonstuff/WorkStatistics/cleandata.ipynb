We started this on sunday the 31st

Singularity 20
-
Ultra Concentrated Bathroom Cleaner - Med: Empty (2-10) (tentative)
Peroxide Glass & Surface Cleaner Medium:Empty(2/16)
Peroxide Glass & Surface cleaner Medium:Empty(2/17)
Ultra Concentrated Acid Bathroom Cleaner-Med:Empty(2/24)
(Ultra Concentrated Acid Bathroom Cleaner-Medium)(3-2)
Dojo
-
Ultra concentrated Bathroom Cleaner - Med: Empty (2-09 tentative)
Ultra Concentrated Acid Bathroom Cleaner - Medium:Empty (2-23)

SU583
-

SU556
-
Peroxide Glass & Surface Cleaner   (3-1)
