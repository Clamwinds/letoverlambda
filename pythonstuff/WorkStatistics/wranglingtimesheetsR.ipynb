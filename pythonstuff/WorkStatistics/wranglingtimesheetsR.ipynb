{
 "cells": [
  {
   "cell_type": "code",
   "execution_count": 5,
   "metadata": {
    "collapsed": false
   },
   "outputs": [
    {
     "name": "stderr",
     "output_type": "stream",
     "text": [
      "Loading required package: coda\n",
      "Linked to JAGS 3.4.0\n",
      "Loaded modules: basemod,bugs\n"
     ]
    },
    {
     "ename": "ERROR",
     "evalue": "Error: C stack usage  7971348 is too close to the limit\n",
     "output_type": "error",
     "traceback": [
      "Error: C stack usage  7971348 is too close to the limit\n"
     ]
    },
    {
     "name": "stdout",
     "output_type": "stream",
     "text": [
      "\n",
      "*********************************************************************\n",
      "Kruschke, J. K. (2015). Doing Bayesian Data Analysis, Second Edition:\n",
      "A Tutorial with R, JAGS, and Stan. Academic Press / Elsevier.\n",
      "*********************************************************************\n",
      "\n"
     ]
    }
   ],
   "source": [
    ".libPaths(\"/home/lucien/code/statistics/DBDA2Eprograms/\")\n",
    ".libPaths(\"/home/lucien/R/x86_64-pc-linux-gnu-library/3.1\")\n",
    "library(\"rjags\")\n",
    "library(\"runjags\")\n",
    "source(\"/home/lucien/code/statistics/DBDA2Eprograms/Jags-ExampleScript.R\")\n",
    "source(\"/home/lucien/code/statistics/DBDA2Eprograms/DBDA2E-utilities.R\")\n",
    "library(\"parallel\")"
   ]
  },
  {
   "cell_type": "code",
   "execution_count": null,
   "metadata": {
    "collapsed": true
   },
   "outputs": [],
   "source": []
  }
 ],
 "metadata": {
  "kernelspec": {
   "display_name": "R",
   "language": "R",
   "name": "ir"
  },
  "language_info": {
   "codemirror_mode": "r",
   "file_extension": ".r",
   "mimetype": "text/x-r-source",
   "name": "R",
   "pygments_lexer": "r",
   "version": "3.1.2"
  }
 },
 "nbformat": 4,
 "nbformat_minor": 0
}
