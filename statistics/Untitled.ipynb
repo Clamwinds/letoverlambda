{
 "cells": [
  {
   "cell_type": "markdown",
   "metadata": {},
   "source": [
    "3/23/2016\n",
    "\n",
    "Since I have a lot of time nowadays I need to get productive again before classes begin. So i'll use this as my big how to do x y or z with r. So let's start with something cool like weather radials, I'll do it for my city, san jose.\n",
    "\n",
    "Fuck I couldn't find the weather data for san jose in a csv, so i'll save it for later \n",
    "\n",
    "Wrapping my head around the meaning of likelihood is getting difficult again, I thought I had a better grasp of it, ah the likelihood is often called the \"sampling distribution\""
   ]
  },
  {
   "cell_type": "code",
   "execution_count": null,
   "metadata": {
    "collapsed": true
   },
   "outputs": [],
   "source": []
  },
  {
   "cell_type": "code",
   "execution_count": null,
   "metadata": {
    "collapsed": true
   },
   "outputs": [],
   "source": []
  }
 ],
 "metadata": {
  "kernelspec": {
   "display_name": "R",
   "language": "R",
   "name": "ir"
  },
  "language_info": {
   "codemirror_mode": "r",
   "file_extension": ".r",
   "mimetype": "text/x-r-source",
   "name": "R",
   "pygments_lexer": "r",
   "version": "3.1.2"
  }
 },
 "nbformat": 4,
 "nbformat_minor": 0
}
